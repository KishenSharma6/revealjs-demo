{
 "cells": [
  {
   "cell_type": "markdown",
   "metadata": {
    "slideshow": {
     "slide_type": "slide"
    }
   },
   "source": [
    "# Mike's 5-minute talk about last week's meeting\n",
    "\n",
    "## 2020-02-13"
   ]
  },
  {
   "cell_type": "markdown",
   "metadata": {
    "slideshow": {
     "slide_type": "slide"
    }
   },
   "source": [
    "# There are no rules, only guidelines...\n",
    "\n",
    "- If you break the law, you will probably go to jail\n",
    "- Please try to use your best judgement at all times\n",
    "- Don't be selfish, and think of others first, and what you'd want done to you\n"
   ]
  },
  {
   "cell_type": "markdown",
   "metadata": {
    "slideshow": {
     "slide_type": "slide"
    }
   },
   "source": [
    "# Acorn is language-agnostic\n",
    "\n",
    "- Use your best judgement about the tools and languages you use for a task/project/client. \n",
    "- Python isn't the most appropriate choice 100% of the time."
   ]
  },
  {
   "cell_type": "markdown",
   "metadata": {
    "slideshow": {
     "slide_type": "fragment"
    }
   },
   "source": [
    "Nobody has to use jupyter notebooks at Acorn. \n",
    "\n",
    "We can decide to experiment with a better workflow when we use them, to highlight their strengths and mitigate the headaches, or we can stop using them altogether. What's the best tool for the job?"
   ]
  },
  {
   "cell_type": "markdown",
   "metadata": {
    "slideshow": {
     "slide_type": "slide"
    }
   },
   "source": [
    "# What's the best tool for the job?\n",
    "\n",
    "Mike strongly recommends using the best tool for the job. In most cases, for Acorn for the near future, that's Python as a programming language, but NOT notebooks. However, this is a guideline, not a rule, and I can share when this rule should be violated: for long term skill building and future profitability of acorn"
   ]
  },
  {
   "cell_type": "markdown",
   "metadata": {
    "slideshow": {
     "slide_type": "slide"
    }
   },
   "source": [
    "# RStudio is language-agnostic\n",
    "\n",
    "- You can use Python with RStudio, if you want\n",
    "- Mike thinks there are more suitable tools than RStudio for working with Python"
   ]
  },
  {
   "cell_type": "markdown",
   "metadata": {
    "slideshow": {
     "slide_type": "slide"
    }
   },
   "source": [
    "# Kernels != virtual environments != virtualization tools\n",
    "\n",
    "## virtual environments == package/library dependency managers\n",
    "\n",
    "There was confusion on the call between kernels, virtual environments (dependency management process or software like conda/pip/wheel/packrat/npm), virtualization products (aka hypervisors; examples: docker, virtualbox) and their management tools (kubernetes, puppet, vagrant, etc.). \n"
   ]
  },
  {
   "cell_type": "markdown",
   "metadata": {
    "slideshow": {
     "slide_type": "subslide"
    }
   },
   "source": [
    "We can go more in depth about this another time, but TLDR: \n",
    "- Python virtual environment is a *package dependency management tool.* \n",
    "- There is an R package called packrat that serves a similar purpose. \n",
    "- It's more common to deploy code in packages (libraries) in R than in Python, it's just a little less common."
   ]
  },
  {
   "cell_type": "markdown",
   "metadata": {
    "slideshow": {
     "slide_type": "slide"
    }
   },
   "source": [
    "## Missing the Possibilities + Missing Common Language\n",
    "\n",
    "- lack of awareness of possibilities and knowing your own tools\n",
    "- and also shared vocabulary. \n",
    "\n",
    "Jai and Liz have different approaches to doing machine learning. Jai misses the way he used to work in R Studio, and doesn't know what he can or is allowed to do at Acorn. Meanwhile, Liz doesn't know what Jai is talking about, because she's not been exposed to Jai's preferred approach to working. I have two suggestions to overcome this, without creating stupid policies or rules that do nothing. "
   ]
  },
  {
   "cell_type": "markdown",
   "metadata": {
    "slideshow": {
     "slide_type": "subslide"
    }
   },
   "source": [
    "## Missing the Possibilities + Missing Common Language\n",
    "\n",
    "So how about these solutions:\n",
    "- I'll show you how I evaluate what's the best tool for the job\n",
    "- I'll show you how I quickly learn a new software product like an IDE to get 80% of what I need to out of it\n",
    "- Let's each share our workflows\n",
    "    - I'll show you how I like to work\n",
    "    - I'll ask others, starting with Jai, to give us a demo of how they work.\n",
    "- Check out the workflow of others, example: https://www.youtube.com/c/DevChatter\n"
   ]
  },
  {
   "cell_type": "markdown",
   "metadata": {
    "slideshow": {
     "slide_type": "slide"
    }
   },
   "source": [
    "## Misc Comments"
   ]
  },
  {
   "cell_type": "markdown",
   "metadata": {
    "slideshow": {
     "slide_type": "fragment"
    }
   },
   "source": [
    "## \"Is it free?\" \n",
    "\n",
    "- Remember TANSTAAFL\n",
    "- GIMP vs Photoshop"
   ]
  },
  {
   "cell_type": "markdown",
   "metadata": {
    "slideshow": {
     "slide_type": "subslide"
    }
   },
   "source": [
    "\n",
    "## Miniconda is lighter than Anaconda\n",
    "\n",
    "But if you don't know what you are doing, you will end up with 100 versions of python on your computer conflicting with each other."
   ]
  },
  {
   "cell_type": "markdown",
   "metadata": {
    "slideshow": {
     "slide_type": "slide"
    }
   },
   "source": [
    "# Mike's proposed future talks\n",
    "\n",
    "- how to pick the best (X) for the job        \n",
    "- Mike's favorite tools, and what he uses for when (IDE shootout)\n",
    "- Mike's workflow (including logging and debugging workflow) *\n",
    "- Test-driven development and why we may decide do it at Acorn\n",
    "- Docker vs virtualenv vs kernels vs cookiecutter\n",
    "- DRY and Mike's rule of 3 (premature optimization is the root of all evil)\n",
    "- how to scale our team collaboration to even thousands\n",
    "- music and popcorn and kernel density estimate research\n",
    "\n",
    "**  NOTE: Each person should show us their workflow, too!\n"
   ]
  },
  {
   "cell_type": "markdown",
   "metadata": {
    "slideshow": {
     "slide_type": "notes"
    }
   },
   "source": [
    "## Speakers Notes and talk outline\n",
    "\n",
    "### Misconceptions to quickly address\n",
    "\n",
    "- we have no handbook for policies, and there are no rules. We ask that you not break the law, and that you use your best judgement. For example, I ask that you think about what is best for our company, the project nad client, and your fellow employees ahead of your personal self-interests. That's the closest thing to a rule. Nowhere did I say, use Python, it's the law. We'll go over this more in a minute.\n",
    "- Acorn is language agnostic. We have no policies that require we use one language or another. \n",
    "- RStudio is language agnostic (works for Python), but not the best tool for the job\n",
    "- Mike strongly recommends using the best tool for the job. In most cases, for Acorn for the near future, that's Python as a programming language, but NOT notebooks. However, this is a guideline, not a rule, and I can share when this rule should be violated: for long term skill building and future profitability of acorn\n",
    "\n",
    "- There was confusion on the call between kernels, virtual environments (dependency management process or software like conda/pip/wheel/packrat/npm), virtualization products (aka hypervisors; examples: docker, virtualbox) and their management tools (kubernetes, puppet, vagrant, etc.). \n",
    "    - We can go more in depth about this another time, but TLDR: Python virtual environment is a package dependency management tool. There is a package called packrat in R that serves the same purpose. It's more common to deploy code in packages (libraries) in R than in Python, it's just a little less common.\n",
    "\n",
    "- Nobody has to use jupyter notebooks. We can decide to experiment with a better workflow when we use them, to highlight their strengths and mitigate the headaches, or we can stop using them altogether. Again, please use the best tool for the job.\n",
    "\n",
    "- Two concerns:\n",
    "    - lack of awareness of possibilities and knowing your own tools\n",
    "    - and also shared vocabulary. Jai and Liz have different approaches to doing machine learning. Jai misses the way he used to work in R Studio, and doesn't know what he can or is allowed to do at Acorn. Meanwhile, Liz doesn't know what Jai is talking about, because she's not been exposed to Jai's preferred approach to working. I have two suggestions to overcome this, without creating stupid policies or rules that do nothing. So how about these solutions:\n",
    "    - show you how to evaluate what's the best tool for the job, and learn it fairly well\n",
    "    - let's share our workflows\n",
    "        - I'll show you how I like to work\n",
    "        - I'll ask others, starting with Jai, to give us a demo of how they work.\n",
    "    - https://www.youtube.com/c/DevChatter\n",
    "    - I'll show you how to get to intermediate capability on a tool you've chosen\n",
    "\n",
    "- Misc comments:\n",
    "    - i kept hearing the question, is it free? There's no such thing as a free lunch, and you have to decide whether you are saving money but paying for it in other ways. For example, I use GIMP when it suites me, but most of the time, especially if I'm in a hurry and I need good quality, I pay the ten bucks to use photoshop for a month. We can talk more about this at another time. \n",
    "    - if anaconda is too heavy for you, use miniconda\n",
    "    - anaconda will muck up your system if you don't know how to use it properly, so careful there\n",
    "\n",
    "\n",
    "- future talks\n",
    "    - Mike's workflow\n",
    "    - Jai's workflow (especially with inline code and EDA)\n",
    "    - Mike's favorite tools, and what he uses for when\n",
    "    - Test-driven development and why we need to do it at Acorn.\n",
    "    - how to pick the best (X) for the job        \n",
    "    - logging and debugging workflow\n",
    "    - docker vs virtualenv\n",
    "    - hadley wickam\n",
    "    - DRY and Mike's rule of 3\n",
    "    - premature optimization is the root of all evil\n",
    "    - scaling collaboration\n",
    "        - tensorflow is 3rd most popular open source project, with 9,900 contributors\n",
    "        - over 2 dozen individuals made 100 commits over 24 hours hours on Wednesday Feb 12\n",
    "            - https://github.com/tensorflow/tensorflow/commits/master?after=16d4b320f08f1a0cae62cdb2b22d597b2ed72823+139\n",
    "       \n"
   ]
  },
  {
   "cell_type": "markdown",
   "metadata": {
    "slideshow": {
     "slide_type": "skip"
    }
   },
   "source": [
    "# Talk: How to pick Best tool for the Job\n",
    "\n",
    "       - decision analysis with tools\n",
    "            - general decision analysis\n",
    "        \n",
    "        - choosing tools and libraries esp. open source        \n",
    "        - TOC for decision making\n",
    "        - when to use R in Mike's opinion\n",
    "        - what NOT to use to decide\n",
    "            - lines of code \"it takes only 1 line of code in this language etc\"\n",
    "            - don't consider runtime or speed when \n",
    "            \n",
    "        - good things to consider\n",
    "            - collaboration and readability. What's the easiest for others (including my future self) to read and understand?\n",
    "            - what's best for the project\n",
    "            - what's best for the client\n",
    "            - what's best for the team\n",
    "                - are we learning through exploring?\n",
    "            - what's best for the company\n",
    "                - will practicing with a new language increase future opportunities and bring new skills proficiency that makes us more valuable to the market?\n",
    "                - will using a language we're comfortable with increase profitability through faster workflow, faster code review from other teammates well versed in it, allow you to borrow existing libraries and from past projects we've done to shortcut and increase our profit per hour?\n",
    "        - examples to explore\n",
    "            - JavaScript\n",
    "            - R\n",
    "            - Python\n",
    "            - regex\n",
    "            - GoLang\n",
    "            - jupyterlab\n",
    "         - When Mike thinks R is the best tool for the job\n",
    "             - the client requires it for maintanability\n",
    "             - the client prefers it because they have internal help resources\n",
    "             - we're making an application to run on windows computers\n",
    "             - R is pre-approved but Python is not\n",
    "             - E&J Gallo was a great example of where R was the best tool (at first)\n",
    "             - we quickly need production-ready visuals exported to illustrator for eventual printing; the code is not the deliverable\n",
    "             - we have flexibility with the engagement to develop a second language skill for some employees, but the project requires a turing-complete glue language\n",
    "             - we are short on time, and we know R will work, but other languages are uncertain or will be slow\n",
    "             - We need an all-in-one solution and isolation and scalability or wide data is not a concern\n",
    "    - why we use standards\n",
    "        - benefits\n",
    "            - pre-approved decisions\n",
    "            - easier to learn\n",
    "            - easier to cross-train\n",
    "            - faster, exploits efficiencies and optimization\n",
    "        - disadvantages\n",
    "            - creates artificial speed bumps for individuals\n",
    "            - isolates us from exploratory learning\n",
    "            \n",
    "## Mike's Fave Tools Shootout\n",
    "\n",
    "        - IDE shootout\n",
    "            - Atom\n",
    "            - PyCharm\n",
    "        - things to compare\n",
    "            - docker\n",
    "            - virtualenv\n",
    "            - notebook\n",
    "            - code folding\n",
    "            - autocomplete\n",
    "            - refactoring\n",
    "            - line selection running\n",
    "            - version control\n",
    "\n",
    "            \n",
    "When deciding whether to try a new language, consider..find a fellow squirrel to debate these questions:\n",
    "\n",
    "- Is it the best tool for the job? Why? Why not? Where might you run into a problem? What do we gain? What are you sacrificing by using a less common language?\n",
    "- If you couldn't use this tool/language, what's your second best alternative? \n",
    "- Do you have someone to partner with who can at least red team your code and provide code review?\n",
    "- If you run into trouble, can you easily get help with it from someone who knows at least as much as you do about the language?\n",
    "- Is it scalable to the extent that it needs to be for the customer? Or will it need to be ported to another language at some point in the future? What is the best language for the production version, and how are the two related?\n",
    "- Is it easy to read, and easy to maintain?\n",
    "- Is there sufficient people working with the client who can open it up and extend it?\n",
    "\n",
    "\n",
    "## other\n",
    "\n",
    "- It occurs to me that y'all don't know how to select the best tool for the job.\n",
    "    - Mike dislikes jupyter notebooks, too. One major problem is version control.\n",
    "    - ntotebooks are good for blog-like documentation\n",
    "    - line count vs readability vs maintanability\n",
    "    - best tool for the job\n",
    "    - miniconda\n",
    "    - hadley wickham and future self\n",
    "    - we do not require anyone use notebooks at acorn\n",
    "    - free vs ROA (opportunity cost, time, ease of use, support)\n",
    "        - related to how to choose tools and open source libraries\n",
    " \n",
    "- open issues\n",
    "    - 20-10\n",
    "    - jai's process is so fundamentally different, you don't even agree on the pros and cons of notebooks\n",
    "    - standardized processes in code, and why it's relevant\n",
    "\n",
    "\n",
    "- proposals\n",
    "    - minimize notebook use in favor of standalone scripts\n",
    "        - if you must use notebooks, make it for your future self to describe inner workings of your code. think of it as \"dear self who is one year older and is wondering what I did in that file over there... let me paint you a picture\"\n",
    "    - let's standardize but not on jupyter notebook\n",
    "    - let's show more process oriented items\n",
    "    - check out this site which is twitch for code writing\n",
    "    - let's start branching our code religiously. If we can't \n",
    "\n",
    "- tensorflow is 3rd most popular open source project, with 9,900 contributors\n",
    "- over 2 dozen individuals made 100 commits over 24 hours hours on Wednesday Feb 12\n",
    "    - https://github.com/tensorflow/tensorflow/commits/master?after=16d4b320f08f1a0cae62cdb2b22d597b2ed72823+139"
   ]
  },
  {
   "cell_type": "markdown",
   "metadata": {
    "slideshow": {
     "slide_type": "slide"
    }
   },
   "source": [
    "# P.S. - about Jupyter Notebooks\n",
    "\n",
    "- I agree, for our purposes, we may have outgrown Jupyter Notebooks, but...\n"
   ]
  },
  {
   "cell_type": "markdown",
   "metadata": {
    "slideshow": {
     "slide_type": "fragment"
    }
   },
   "source": [
    "   - it's hard to hate something when you realize how incredibly powerful it can be...\n",
    "   "
   ]
  },
  {
   "cell_type": "markdown",
   "metadata": {
    "slideshow": {
     "slide_type": "fragment"
    }
   },
   "source": [
    "   - sometimes, a jupyter notebook may be the best tool for the job"
   ]
  },
  {
   "cell_type": "markdown",
   "metadata": {
    "slideshow": {
     "slide_type": "fragment"
    }
   },
   "source": [
    "### chalkboard demo time!"
   ]
  },
  {
   "cell_type": "markdown",
   "metadata": {
    "slideshow": {
     "slide_type": "fragment"
    }
   },
   "source": [
    "https://github.com/mikezawitkowski/revealjs-demo"
   ]
  },
  {
   "cell_type": "markdown",
   "metadata": {
    "slideshow": {
     "slide_type": "slide"
    }
   },
   "source": [
    "# The End"
   ]
  }
 ],
 "metadata": {
  "celltoolbar": "Slideshow",
  "kernelspec": {
   "display_name": "Python 3",
   "language": "python",
   "name": "python3"
  },
  "language_info": {
   "codemirror_mode": {
    "name": "ipython",
    "version": 3
   },
   "file_extension": ".py",
   "mimetype": "text/x-python",
   "name": "python",
   "nbconvert_exporter": "python",
   "pygments_lexer": "ipython3",
   "version": "3.7.4"
  },
  "rise": {
   "enable_chalkboard": true
  }
 },
 "nbformat": 4,
 "nbformat_minor": 4
}
