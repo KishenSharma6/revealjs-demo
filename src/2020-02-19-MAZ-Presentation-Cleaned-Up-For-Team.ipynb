{
 "cells": [
  {
   "cell_type": "markdown",
   "metadata": {
    "slideshow": {
     "slide_type": "slide"
    }
   },
   "source": [
    "# \"Best Tools for the Job\"\n",
    "\n",
    "*Mike's 5-minute talk about last week's meeting.*\n",
    "\n",
    "\n",
    "created 2020-02-13\n",
    "\n",
    "presented 2020-02-20"
   ]
  },
  {
   "cell_type": "markdown",
   "metadata": {
    "slideshow": {
     "slide_type": "slide"
    }
   },
   "source": [
    "# Agenda\n",
    "\n",
    "\n",
    "In 5 minutes, cover:\n",
    "\n",
    "- Language Agnostic\n",
    "- Best tool for the job\n",
    "- Mike's next talk"
   ]
  },
  {
   "cell_type": "markdown",
   "metadata": {
    "slideshow": {
     "slide_type": "slide"
    }
   },
   "source": [
    "# Python is optional\n",
    "\n",
    "- Python isn't the only language we use at Acorn.\n",
    "- Python isn't the most appropriate choice 100% of the time."
   ]
  },
  {
   "cell_type": "markdown",
   "metadata": {
    "slideshow": {
     "slide_type": "slide"
    }
   },
   "source": [
    "# Jupyter notebooks are optional\n",
    "\n",
    "- Nobody has to use jupyter notebooks at Acorn. \n",
    "- When is a jupyter notebook the best tool for the job? How do you know?"
   ]
  },
  {
   "cell_type": "markdown",
   "metadata": {
    "slideshow": {
     "slide_type": "slide"
    }
   },
   "source": [
    "# Acorn is language-agnostic\n",
    "\n",
    "- **We endeavor to use the best tool for the job.**\n",
    "- Use your best judgement about the tools and languages you use for a task/project/client. \n",
    "- Beware of \"cognitive overhead\" and other strains on polyglots"
   ]
  },
  {
   "cell_type": "markdown",
   "metadata": {
    "slideshow": {
     "slide_type": "slide"
    }
   },
   "source": [
    "# RStudio is language-agnostic\n",
    "\n",
    "- You can use Python with RStudio, if you want\n",
    "- Mike thinks there are more suitable tools than RStudio for working with Python (ie PyCharm)\n"
   ]
  },
  {
   "cell_type": "markdown",
   "metadata": {
    "slideshow": {
     "slide_type": "slide"
    }
   },
   "source": [
    "# Kernels != virtual environments != virtualization tools\n",
    "\n",
    "## virtual environments == package/library dependency managers\n",
    "\n",
    "\n"
   ]
  },
  {
   "cell_type": "markdown",
   "metadata": {
    "slideshow": {
     "slide_type": "subslide"
    }
   },
   "source": [
    "- Confusion on the call between:\n",
    "    - kernels, \n",
    "    - virtual environments aka dependency management tools (conda/pip/wheel/packrat/npm), \n",
    "    - virtualization products (aka hypervisors; examples: docker, virtualbox) \n",
    "        - plus their management tools (kubernetes, puppet, vagrant, etc.)\n",
    "- We can cover this in another talk, if you'd like\n",
    "- **TLDR: use packrat in R, and virtual environments in Python for package dependency management**\n"
   ]
  },
  {
   "cell_type": "markdown",
   "metadata": {
    "slideshow": {
     "slide_type": "slide"
    }
   },
   "source": [
    "## \"Is it free?\"  vs best tool for the job\n",
    "\n",
    "Multiple times I heard different people ask, \"Is that software free?\"\n",
    "\n",
    "- TANSTAAFL\n",
    "- GIMP vs Photoshop"
   ]
  },
  {
   "cell_type": "markdown",
   "metadata": {
    "slideshow": {
     "slide_type": "subslide"
    }
   },
   "source": [
    "## No Shared Vocabulary = Missed Opportunities\n",
    "\n",
    "\n",
    "Jai and Liz have different approaches. \n",
    "- Jai misses the R Studio workflow, and doesn't know is feasible at Acorn. \n",
    "- Liz is unfamiliar with Jai's workflow, and doesn't have the same vocabulary"
   ]
  },
  {
   "cell_type": "markdown",
   "metadata": {
    "slideshow": {
     "slide_type": "subslide"
    }
   },
   "source": [
    "- lack of awareness of possibilities and knowing your own tools\n",
    "- and also shared vocabulary. \n",
    "- creating rules and policies is not the solution, and can be fatal to Acorn.\n"
   ]
  },
  {
   "cell_type": "markdown",
   "metadata": {
    "slideshow": {
     "slide_type": "subslide"
    }
   },
   "source": [
    "# No Shared Vocabulary = Missed Opportunities\n",
    "\n",
    "Possible solutions:\n",
    "\n",
    "- Let's each share our workflows with each other"
   ]
  },
  {
   "cell_type": "markdown",
   "metadata": {
    "slideshow": {
     "slide_type": "fragment"
    }
   },
   "source": [
    "- I'll show you how I pick the best tool for a job\n",
    "- I'll show you my personal tricks to quickly become an expert in a new software tool"
   ]
  },
  {
   "cell_type": "markdown",
   "metadata": {
    "slideshow": {
     "slide_type": "subslide"
    }
   },
   "source": [
    "- Check out the workflow of others, example: https://www.youtube.com/c/DevChatter"
   ]
  },
  {
   "cell_type": "markdown",
   "metadata": {
    "slideshow": {
     "slide_type": "slide"
    }
   },
   "source": [
    "# P.S. - about Jupyter Notebooks\n",
    "\n",
    "- I agree, for our purposes, we may have outgrown Jupyter Notebooks, but...\n"
   ]
  },
  {
   "cell_type": "markdown",
   "metadata": {
    "slideshow": {
     "slide_type": "fragment"
    }
   },
   "source": [
    "   - it's hard to hate something when you realize how incredibly powerful it can be...\n",
    "   "
   ]
  },
  {
   "cell_type": "markdown",
   "metadata": {
    "slideshow": {
     "slide_type": "fragment"
    }
   },
   "source": [
    "   - sometimes, a jupyter notebook may be the best tool for the job"
   ]
  },
  {
   "cell_type": "markdown",
   "metadata": {
    "slideshow": {
     "slide_type": "fragment"
    }
   },
   "source": [
    "### chalkboard demo on next slide!"
   ]
  },
  {
   "cell_type": "markdown",
   "metadata": {
    "slideshow": {
     "slide_type": "slide"
    }
   },
   "source": [
    "# In closing, Mike's proposed future talks:\n",
    "\n",
    "*Which shall be the next talk I give?*\n",
    "\n",
    "- How to pick the best (X) for the job        \n",
    "- Mike's favorite tools, and what he uses for when (IDE shootout)\n",
    "- Mike's workflow (including logging and debugging workflow) *\n",
    "- Test-driven development and why we may decide do it at Acorn\n",
    "- Docker vs virtualenv vs kernels vs cookiecutter\n",
    "- DRY and Mike's rule of 3 (premature optimization is the root of all evil)\n",
    "- how to scale our team collaboration to even thousands\n",
    "- music and popcorn and kernel density estimate research\n",
    "- Kernels != virtual environments != virtualization tools\n",
    "\n",
    "**  NOTE: Each person should show us their workflow, too!\n"
   ]
  },
  {
   "cell_type": "markdown",
   "metadata": {
    "slideshow": {
     "slide_type": "slide"
    }
   },
   "source": [
    "# The End\n",
    "\n",
    "Find this presentation here:\n",
    "\n",
    "https://github.com/mikezawitkowski/revealjs-demo"
   ]
  }
 ],
 "metadata": {
  "celltoolbar": "Slideshow",
  "kernelspec": {
   "display_name": "Python 3",
   "language": "python",
   "name": "python3"
  },
  "language_info": {
   "codemirror_mode": {
    "name": "ipython",
    "version": 3
   },
   "file_extension": ".py",
   "mimetype": "text/x-python",
   "name": "python",
   "nbconvert_exporter": "python",
   "pygments_lexer": "ipython3",
   "version": "3.7.4"
  },
  "rise": {
   "enable_chalkboard": true
  }
 },
 "nbformat": 4,
 "nbformat_minor": 4
}
